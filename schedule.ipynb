{
 "cells": [
  {
   "cell_type": "code",
   "execution_count": 397,
   "source": [
    "\n",
    "from pandas import DataFrame\n",
    "import pandas as pd\n",
    "import random\n",
    "import datetime"
   ],
   "outputs": [],
   "metadata": {}
  },
  {
   "cell_type": "code",
   "execution_count": 398,
   "source": [
    "due_product_list = list()\n",
    "dye_names = [ \"8E\",\"P\",\"M\",\"D\",\"H\"]\n",
    "work_days = 5\n",
    "week_start_date = datetime.datetime(2021, 8, 30)\n",
    "capacity_per_day = {\n",
    "\"8E\":288000,\n",
    "\"P\":57600,\n",
    "\"M\":100800,\n",
    "\"D\":72000,\n",
    "\"H\":86400,\n",
    "}\n",
    "week_days = list(\n",
    "    week_start_date + datetime.timedelta(days=i) for i in range(work_days)\n",
    ")\n",
    "week_days"
   ],
   "outputs": [
    {
     "output_type": "execute_result",
     "data": {
      "text/plain": [
       "[datetime.datetime(2021, 8, 30, 0, 0),\n",
       " datetime.datetime(2021, 8, 31, 0, 0),\n",
       " datetime.datetime(2021, 9, 1, 0, 0),\n",
       " datetime.datetime(2021, 9, 2, 0, 0),\n",
       " datetime.datetime(2021, 9, 3, 0, 0)]"
      ]
     },
     "metadata": {},
     "execution_count": 398
    }
   ],
   "metadata": {}
  },
  {
   "cell_type": "code",
   "execution_count": 399,
   "source": [
    "def random_requirement_generator(size: int) -> dict:\n",
    "    for i in range(size):\n",
    "        yield {\n",
    "            \"part_id\": i+1,\n",
    "            \"dye\":random.choice(dye_names),\n",
    "            \"cust\": random.choice([\"Autoliv\",\"KSS\",\"TRW\"]),\n",
    "            \"safety_stock\":0,\n",
    "            \"cards\":random.randint(0,5),\n",
    "            \"cards_quantity\":random.randint(0,14401),\n",
    "        }\n",
    "        \n",
    "requirments = list(req for req in random_requirement_generator(10000))"
   ],
   "outputs": [],
   "metadata": {}
  },
  {
   "cell_type": "code",
   "execution_count": 400,
   "source": [
    "requirements_df = pd.DataFrame.from_records(data=requirments)\n",
    "\n",
    "requirements_df[\"build_quantity\"] = list(\n",
    "    row[\"cards\"]*row[\"cards_quantity\"] for index, row in requirements_df.iterrows() \n",
    ")\n",
    "requirements_df[\"dye_capacity\"] = list (\n",
    "    capacity_per_day[row[\"dye\"]]*work_days for index, row in requirements_df.iterrows()\n",
    ")\n",
    "\n",
    "total_build_quantity = requirements_df.groupby(by=requirements_df[\"dye\"]) \\\n",
    "                        .sum() \\\n",
    "                        .reset_index() \\\n",
    "                        .drop(\n",
    "                            columns=[\"part_id\",\"safety_stock\",\"cards\",\"cards_quantity\",\"dye_capacity\"]\n",
    "                        ) \\\n",
    "                        .rename({\n",
    "                            \"build_quantity\":\"total_build_qty\"\n",
    "                        })\n"
   ],
   "outputs": [],
   "metadata": {}
  },
  {
   "cell_type": "code",
   "execution_count": 401,
   "source": [
    "\n",
    "total_build_quantity['capacity_per_day'] = list(capacity_per_day[row[\"dye\"]] for index, row in total_build_quantity.iterrows())\n",
    "total_build_quantity['capacity_per_week'] = list(capacity_per_day[row[\"dye\"]]*work_days for index, row in total_build_quantity.iterrows())\n",
    "total_build_quantity"
   ],
   "outputs": [
    {
     "output_type": "execute_result",
     "data": {
      "text/plain": [
       "  dye  build_quantity  capacity_per_day  capacity_per_week\n",
       "0  8E          272640            288000            1440000\n",
       "1   D          259440             72000             360000\n",
       "2   H          155867             86400             432000\n",
       "3   M          429511            100800             504000\n",
       "4   P          240203             57600             288000"
      ],
      "text/html": [
       "<div>\n",
       "<style scoped>\n",
       "    .dataframe tbody tr th:only-of-type {\n",
       "        vertical-align: middle;\n",
       "    }\n",
       "\n",
       "    .dataframe tbody tr th {\n",
       "        vertical-align: top;\n",
       "    }\n",
       "\n",
       "    .dataframe thead th {\n",
       "        text-align: right;\n",
       "    }\n",
       "</style>\n",
       "<table border=\"1\" class=\"dataframe\">\n",
       "  <thead>\n",
       "    <tr style=\"text-align: right;\">\n",
       "      <th></th>\n",
       "      <th>dye</th>\n",
       "      <th>build_quantity</th>\n",
       "      <th>capacity_per_day</th>\n",
       "      <th>capacity_per_week</th>\n",
       "    </tr>\n",
       "  </thead>\n",
       "  <tbody>\n",
       "    <tr>\n",
       "      <th>0</th>\n",
       "      <td>8E</td>\n",
       "      <td>272640</td>\n",
       "      <td>288000</td>\n",
       "      <td>1440000</td>\n",
       "    </tr>\n",
       "    <tr>\n",
       "      <th>1</th>\n",
       "      <td>D</td>\n",
       "      <td>259440</td>\n",
       "      <td>72000</td>\n",
       "      <td>360000</td>\n",
       "    </tr>\n",
       "    <tr>\n",
       "      <th>2</th>\n",
       "      <td>H</td>\n",
       "      <td>155867</td>\n",
       "      <td>86400</td>\n",
       "      <td>432000</td>\n",
       "    </tr>\n",
       "    <tr>\n",
       "      <th>3</th>\n",
       "      <td>M</td>\n",
       "      <td>429511</td>\n",
       "      <td>100800</td>\n",
       "      <td>504000</td>\n",
       "    </tr>\n",
       "    <tr>\n",
       "      <th>4</th>\n",
       "      <td>P</td>\n",
       "      <td>240203</td>\n",
       "      <td>57600</td>\n",
       "      <td>288000</td>\n",
       "    </tr>\n",
       "  </tbody>\n",
       "</table>\n",
       "</div>"
      ]
     },
     "metadata": {},
     "execution_count": 401
    }
   ],
   "metadata": {}
  },
  {
   "cell_type": "code",
   "execution_count": 402,
   "source": [
    "end = requirements_df.loc[requirements_df['dye'] == '8E']\n",
    "princess = requirements_df.loc[requirements_df['dye'] == 'P']\n",
    "maggie = requirements_df.loc[requirements_df['dye'] == 'M']\n",
    "dyeHard = requirements_df.loc[requirements_df['dye'] == 'D']\n",
    "high5 = requirements_df.loc[requirements_df['dye'] == 'H']\n"
   ],
   "outputs": [],
   "metadata": {}
  },
  {
   "cell_type": "code",
   "execution_count": 403,
   "source": [
    "\n",
    "\n",
    "def scheduler(df: DataFrame) -> list[dict]:\n",
    "    return pd.DataFrame.from_records(data=list(record for record in date_record_generator(df)))\n",
    "\n",
    "def dict_merger(index:int, i:int, rows:int, qty:int, skip_days:int=0) -> dict:\n",
    "    return {\n",
    "            \"index\":index,\n",
    "            \"Date\": week_days[i] + datetime.timedelta(days=skip_days),\n",
    "            \"part_id\" : rows[\"part_id\"],\n",
    "            \"dye\": rows[\"dye\"],\n",
    "            \"cards\": rows[\"cards\"],\n",
    "            \"cards_quantity\": rows[\"cards_quantity\"],\n",
    "            \"build_quantity\": qty\n",
    "    }\n",
    "\n",
    "def due_product_dict(index:int, i:int, rows:int, qty:int):\n",
    "    return {\n",
    "            \"index\":index,\n",
    "            \"part_id\" : rows[\"part_id\"],\n",
    "            \"dye\": rows[\"dye\"],\n",
    "            \"cards\": rows[\"cards\"],\n",
    "            \"cards_quantity\": rows[\"cards_quantity\"],\n",
    "            \"build_quantity\": qty\n",
    "    }\n",
    "\n",
    "def date_record_generator(df: DataFrame) -> dict:\n",
    "    i=0\n",
    "    sum=0\n",
    "    for index, rows in df.iterrows():\n",
    "        if i <=len(week_days):\n",
    "            sum += rows[\"build_quantity\"]\n",
    "            if sum > capacity_per_day[rows[\"dye\"]]:\n",
    "                difference = sum-capacity_per_day[rows[\"dye\"]]\n",
    "                split = rows[\"build_quantity\"] - difference\n",
    "                yield dict_merger(index, i, rows, split)\n",
    "                i += 1\n",
    "                sum = difference\n",
    "                if i >= len(week_days):\n",
    "                    # yield dict_merger(index, i-1, rows, difference, skip_days=7-work_days)\n",
    "                    due_product_list.append(due_product_dict(index, i, rows, difference))\n",
    "                    break\n",
    "                else:\n",
    "                    yield dict_merger(index, i, rows, difference)\n",
    "            else:\n",
    "                yield dict_merger(index, i, rows, rows[\"build_quantity\"])\n",
    "        else:\n",
    "            due_product_list.append(due_product_dict(index, i, rows, rows[\"build_quantity\"]))\n",
    "            \n",
    "            "
   ],
   "outputs": [],
   "metadata": {}
  },
  {
   "cell_type": "code",
   "execution_count": 404,
   "source": [
    "e_scheduled = pd.DataFrame.from_records(data=scheduler(end))\n",
    "p_scheduled = pd.DataFrame.from_records(data=scheduler(princess))\n",
    "m_scheduled = pd.DataFrame.from_records(data=scheduler(maggie))\n",
    "d_scheduled = pd.DataFrame.from_records(data=scheduler(dyeHard))\n",
    "h_scheduled = pd.DataFrame.from_records(data=scheduler(high5))\n"
   ],
   "outputs": [],
   "metadata": {}
  },
  {
   "cell_type": "code",
   "execution_count": null,
   "source": [],
   "outputs": [],
   "metadata": {}
  }
 ],
 "metadata": {
  "orig_nbformat": 4,
  "language_info": {
   "name": "python",
   "version": "3.9.6",
   "mimetype": "text/x-python",
   "codemirror_mode": {
    "name": "ipython",
    "version": 3
   },
   "pygments_lexer": "ipython3",
   "nbconvert_exporter": "python",
   "file_extension": ".py"
  },
  "kernelspec": {
   "name": "python3",
   "display_name": "Python 3.9.6 64-bit"
  },
  "interpreter": {
   "hash": "aee8b7b246df8f9039afb4144a1f6fd8d2ca17a180786b69acc140d282b71a49"
  }
 },
 "nbformat": 4,
 "nbformat_minor": 2
}